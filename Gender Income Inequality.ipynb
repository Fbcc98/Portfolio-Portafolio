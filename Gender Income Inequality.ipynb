{
 "cells": [
  {
   "cell_type": "markdown",
   "id": "0a9ad3a6",
   "metadata": {},
   "source": [
    "# Gender Income Inequality"
   ]
  },
  {
   "cell_type": "markdown",
   "id": "62912dc6",
   "metadata": {},
   "source": [
    "## 1. Dataframe "
   ]
  },
  {
   "cell_type": "code",
   "execution_count": 1,
   "id": "027847a5",
   "metadata": {},
   "outputs": [
    {
     "data": {
      "text/html": [
       "        <script type=\"text/javascript\">\n",
       "        window.PlotlyConfig = {MathJaxConfig: 'local'};\n",
       "        if (window.MathJax) {MathJax.Hub.Config({SVG: {font: \"STIX-Web\"}});}\n",
       "        if (typeof require !== 'undefined') {\n",
       "        require.undef(\"plotly\");\n",
       "        requirejs.config({\n",
       "            paths: {\n",
       "                'plotly': ['https://cdn.plot.ly/plotly-2.9.0.min']\n",
       "            }\n",
       "        });\n",
       "        require(['plotly'], function(Plotly) {\n",
       "            window._Plotly = Plotly;\n",
       "        });\n",
       "        }\n",
       "        </script>\n",
       "        "
      ]
     },
     "metadata": {},
     "output_type": "display_data"
    },
    {
     "data": {
      "text/html": [
       "        <script type=\"text/javascript\">\n",
       "        window.PlotlyConfig = {MathJaxConfig: 'local'};\n",
       "        if (window.MathJax) {MathJax.Hub.Config({SVG: {font: \"STIX-Web\"}});}\n",
       "        if (typeof require !== 'undefined') {\n",
       "        require.undef(\"plotly\");\n",
       "        requirejs.config({\n",
       "            paths: {\n",
       "                'plotly': ['https://cdn.plot.ly/plotly-2.9.0.min']\n",
       "            }\n",
       "        });\n",
       "        require(['plotly'], function(Plotly) {\n",
       "            window._Plotly = Plotly;\n",
       "        });\n",
       "        }\n",
       "        </script>\n",
       "        "
      ]
     },
     "metadata": {},
     "output_type": "display_data"
    }
   ],
   "source": [
    "# Load Dataset and import libaries\n",
    "import pandas as pd\n",
    "import numpy as np\n",
    "import matplotlib.pyplot as plt\n",
    "import os\n",
    "import statistics as st\n",
    "import cufflinks as cf\n",
    "from IPython.display import display, HTML\n",
    "\n",
    "cf.set_config_file(sharing = 'public', theme = 'ggplot', offline = True)\n",
    "\n",
    "os.chdir('C:\\\\Users\\\\Gamer\\\\Python\\\\DataScience Python\\\\Portafolio\\\\Base de Datos')\n",
    "\n",
    "df = pd.read_csv('Casen_2017.3.csv', delimiter = ';')"
   ]
  },
  {
   "cell_type": "code",
   "execution_count": 2,
   "id": "8160b8bd",
   "metadata": {
    "scrolled": false
   },
   "outputs": [
    {
     "data": {
      "text/html": [
       "<div>\n",
       "<style scoped>\n",
       "    .dataframe tbody tr th:only-of-type {\n",
       "        vertical-align: middle;\n",
       "    }\n",
       "\n",
       "    .dataframe tbody tr th {\n",
       "        vertical-align: top;\n",
       "    }\n",
       "\n",
       "    .dataframe thead th {\n",
       "        text-align: right;\n",
       "    }\n",
       "</style>\n",
       "<table border=\"1\" class=\"dataframe\">\n",
       "  <thead>\n",
       "    <tr style=\"text-align: right;\">\n",
       "      <th></th>\n",
       "      <th>region</th>\n",
       "      <th>pco1</th>\n",
       "      <th>sexo</th>\n",
       "      <th>edad</th>\n",
       "      <th>pco2</th>\n",
       "      <th>oficio4</th>\n",
       "      <th>oficio1</th>\n",
       "      <th>o10</th>\n",
       "      <th>yoprcor</th>\n",
       "      <th>yoprcorh</th>\n",
       "      <th>ytrabajocor</th>\n",
       "      <th>esc</th>\n",
       "      <th>educ</th>\n",
       "      <th>activ</th>\n",
       "    </tr>\n",
       "  </thead>\n",
       "  <tbody>\n",
       "    <tr>\n",
       "      <th>0</th>\n",
       "      <td>1</td>\n",
       "      <td>1</td>\n",
       "      <td>2</td>\n",
       "      <td>56</td>\n",
       "      <td>1</td>\n",
       "      <td>9112</td>\n",
       "      <td>9</td>\n",
       "      <td>8</td>\n",
       "      <td>180000</td>\n",
       "      <td>180000</td>\n",
       "      <td>250000</td>\n",
       "      <td>12</td>\n",
       "      <td>5</td>\n",
       "      <td>1</td>\n",
       "    </tr>\n",
       "    <tr>\n",
       "      <th>1</th>\n",
       "      <td>1</td>\n",
       "      <td>1</td>\n",
       "      <td>2</td>\n",
       "      <td>21</td>\n",
       "      <td>1</td>\n",
       "      <td>9131</td>\n",
       "      <td>9</td>\n",
       "      <td>59</td>\n",
       "      <td>200000</td>\n",
       "      <td>200000</td>\n",
       "      <td>200000</td>\n",
       "      <td>7</td>\n",
       "      <td>1</td>\n",
       "      <td>1</td>\n",
       "    </tr>\n",
       "    <tr>\n",
       "      <th>2</th>\n",
       "      <td>1</td>\n",
       "      <td>1</td>\n",
       "      <td>1</td>\n",
       "      <td>24</td>\n",
       "      <td>1</td>\n",
       "      <td>5123</td>\n",
       "      <td>5</td>\n",
       "      <td>8</td>\n",
       "      <td>270000</td>\n",
       "      <td>270000</td>\n",
       "      <td>281750</td>\n",
       "      <td>12</td>\n",
       "      <td>5</td>\n",
       "      <td>1</td>\n",
       "    </tr>\n",
       "    <tr>\n",
       "      <th>3</th>\n",
       "      <td>1</td>\n",
       "      <td>3</td>\n",
       "      <td>1</td>\n",
       "      <td>28</td>\n",
       "      <td>3</td>\n",
       "      <td>5123</td>\n",
       "      <td>5</td>\n",
       "      <td>8</td>\n",
       "      <td>300000</td>\n",
       "      <td>300000</td>\n",
       "      <td>311750</td>\n",
       "      <td>12</td>\n",
       "      <td>5</td>\n",
       "      <td>1</td>\n",
       "    </tr>\n",
       "    <tr>\n",
       "      <th>4</th>\n",
       "      <td>1</td>\n",
       "      <td>1</td>\n",
       "      <td>1</td>\n",
       "      <td>26</td>\n",
       "      <td>1</td>\n",
       "      <td>9141</td>\n",
       "      <td>9</td>\n",
       "      <td>8</td>\n",
       "      <td>320000</td>\n",
       "      <td>320000</td>\n",
       "      <td>341667</td>\n",
       "      <td>15</td>\n",
       "      <td>8</td>\n",
       "      <td>1</td>\n",
       "    </tr>\n",
       "  </tbody>\n",
       "</table>\n",
       "</div>"
      ],
      "text/plain": [
       "   region  pco1  sexo  edad  pco2 oficio4 oficio1 o10 yoprcor yoprcorh  \\\n",
       "0       1     1     2    56     1    9112       9   8  180000   180000   \n",
       "1       1     1     2    21     1    9131       9  59  200000   200000   \n",
       "2       1     1     1    24     1    5123       5   8  270000   270000   \n",
       "3       1     3     1    28     3    5123       5   8  300000   300000   \n",
       "4       1     1     1    26     1    9141       9   8  320000   320000   \n",
       "\n",
       "  ytrabajocor esc  educ activ  \n",
       "0      250000  12     5     1  \n",
       "1      200000   7     1     1  \n",
       "2      281750  12     5     1  \n",
       "3      311750  12     5     1  \n",
       "4      341667  15     8     1  "
      ]
     },
     "execution_count": 2,
     "metadata": {},
     "output_type": "execute_result"
    }
   ],
   "source": [
    "# Also, look at datatypes of columns\n",
    "df.head()"
   ]
  },
  {
   "cell_type": "code",
   "execution_count": 3,
   "id": "93002df5",
   "metadata": {},
   "outputs": [
    {
     "data": {
      "text/plain": [
       "region          int64\n",
       "pco1            int64\n",
       "sexo            int64\n",
       "edad            int64\n",
       "pco2            int64\n",
       "oficio4        object\n",
       "oficio1        object\n",
       "o10            object\n",
       "yoprcor        object\n",
       "yoprcorh       object\n",
       "ytrabajocor    object\n",
       "esc            object\n",
       "educ            int64\n",
       "activ          object\n",
       "dtype: object"
      ]
     },
     "execution_count": 3,
     "metadata": {},
     "output_type": "execute_result"
    }
   ],
   "source": [
    "# look at the column types\n",
    "df.dtypes"
   ]
  },
  {
   "cell_type": "code",
   "execution_count": 4,
   "id": "dc30f7cb",
   "metadata": {},
   "outputs": [
    {
     "data": {
      "text/plain": [
       "(216439, 14)"
      ]
     },
     "execution_count": 4,
     "metadata": {},
     "output_type": "execute_result"
    }
   ],
   "source": [
    "# And how many columns and rows have our dataframe\n",
    "df.shape"
   ]
  },
  {
   "cell_type": "markdown",
   "id": "a54249a7",
   "metadata": {},
   "source": [
    "## 2. Data Cleaning"
   ]
  },
  {
   "cell_type": "markdown",
   "id": "0030bc30",
   "metadata": {},
   "source": [
    "### 2. 1 Change columns to STR"
   ]
  },
  {
   "cell_type": "code",
   "execution_count": 5,
   "id": "d63232dd",
   "metadata": {},
   "outputs": [],
   "source": [
    "# The first thing I did, is chance datatypes of columns.\n",
    "# Transforming columns in STR\n",
    "df['region'] = df['region'].astype('str')\n",
    "df['pco1'] = df['pco1'].astype('str')\n",
    "df['sexo'] = df['sexo'].astype('str')\n",
    "df['pco2'] = df['pco2'].astype('str')\n",
    "df['educ'] = df['educ'].astype('str')\n",
    "df['activ'] = df['activ'].astype('str')\n",
    "df['oficio1'] = df['oficio1'].astype('str')"
   ]
  },
  {
   "cell_type": "code",
   "execution_count": 6,
   "id": "e0b1fed8",
   "metadata": {},
   "outputs": [],
   "source": [
    "# I replaced numerical values with text\n",
    "df['sexo'] = df['sexo'].replace(['1', '2'],['Hombre', 'Mujer'])\n",
    "df['educ'] = df['educ'].replace(['0', '1', '2', '3', '4', '5', '6', '7', '8','9','10','11', '12', '99'],\n",
    "                                ['Sin Educ. Formal', 'Basica Incom.', 'Basica Compl.', 'M. Hum. Incom.', 'M. Tec. Incom.',\n",
    "                                 'M. Hum Compl.', ' M. Tec Compl.', 'Tecnico Superior Incom.', 'Tecnico Superior Compl.', \n",
    "                                 'Profesional Icom.', 'Prostgrado Icom.', 'Profesional Compl.', 'Postgrado Compl.', np.nan])\n",
    "df['pco1'] = df['pco1'].replace(['1', '2', '3', '4', '5', '6', '7', '8', '9', '10','11', '12','13', '14', '15'],\n",
    "                                ['Jefe(a) de Hogar', 'Esposo(a) de distinto sexo', 'Esposo(a) de mismo sexo', ' Hijo(a) de ambos',\n",
    "                                 'Hijo(a), solo del jefe', 'Hijo(a) solo de la esposo(a)/pareja', 'Padre o madre', 'Suegro(a)', \n",
    "                                 'Yerno o Nuera', 'Nieto', 'Hermano', 'Cuñado', 'Otro familiar', 'No familiar', 'Servicio Domestico'])\n",
    "df['pco2'] = df['pco2'].replace(['1', '2', '3', '4', '5', '6', '13', '14'],\n",
    "                                ['Jefe(a) de Nucleo', 'Esposo(a) de distinto sexo', 'Esposo(a) de mismo sexo', ' Hijo(a) de ambos',\n",
    "                                 'Hijo(a), solo del jefe', 'Hijo(a) solo de la esposo(a)/pareja', 'Otro familiar', 'No familiar'])\n",
    "df['activ'] = df['activ'].replace(['1', '2', '3'], ['Ocupados', 'Desocupados', 'Inactivos'])"
   ]
  },
  {
   "cell_type": "code",
   "execution_count": 7,
   "id": "c01acc1f",
   "metadata": {
    "scrolled": true
   },
   "outputs": [
    {
     "data": {
      "text/html": [
       "<div>\n",
       "<style scoped>\n",
       "    .dataframe tbody tr th:only-of-type {\n",
       "        vertical-align: middle;\n",
       "    }\n",
       "\n",
       "    .dataframe tbody tr th {\n",
       "        vertical-align: top;\n",
       "    }\n",
       "\n",
       "    .dataframe thead th {\n",
       "        text-align: right;\n",
       "    }\n",
       "</style>\n",
       "<table border=\"1\" class=\"dataframe\">\n",
       "  <thead>\n",
       "    <tr style=\"text-align: right;\">\n",
       "      <th></th>\n",
       "      <th>region</th>\n",
       "      <th>pco1</th>\n",
       "      <th>sexo</th>\n",
       "      <th>edad</th>\n",
       "      <th>pco2</th>\n",
       "      <th>oficio4</th>\n",
       "      <th>oficio1</th>\n",
       "      <th>o10</th>\n",
       "      <th>yoprcor</th>\n",
       "      <th>yoprcorh</th>\n",
       "      <th>ytrabajocor</th>\n",
       "      <th>esc</th>\n",
       "      <th>educ</th>\n",
       "      <th>activ</th>\n",
       "    </tr>\n",
       "  </thead>\n",
       "  <tbody>\n",
       "    <tr>\n",
       "      <th>0</th>\n",
       "      <td>1</td>\n",
       "      <td>Jefe(a) de Hogar</td>\n",
       "      <td>Mujer</td>\n",
       "      <td>56</td>\n",
       "      <td>Jefe(a) de Nucleo</td>\n",
       "      <td>9112</td>\n",
       "      <td>9</td>\n",
       "      <td>8</td>\n",
       "      <td>180000</td>\n",
       "      <td>180000</td>\n",
       "      <td>250000</td>\n",
       "      <td>12</td>\n",
       "      <td>M. Hum Compl.</td>\n",
       "      <td>Ocupados</td>\n",
       "    </tr>\n",
       "    <tr>\n",
       "      <th>1</th>\n",
       "      <td>1</td>\n",
       "      <td>Jefe(a) de Hogar</td>\n",
       "      <td>Mujer</td>\n",
       "      <td>21</td>\n",
       "      <td>Jefe(a) de Nucleo</td>\n",
       "      <td>9131</td>\n",
       "      <td>9</td>\n",
       "      <td>59</td>\n",
       "      <td>200000</td>\n",
       "      <td>200000</td>\n",
       "      <td>200000</td>\n",
       "      <td>7</td>\n",
       "      <td>Basica Incom.</td>\n",
       "      <td>Ocupados</td>\n",
       "    </tr>\n",
       "    <tr>\n",
       "      <th>2</th>\n",
       "      <td>1</td>\n",
       "      <td>Jefe(a) de Hogar</td>\n",
       "      <td>Hombre</td>\n",
       "      <td>24</td>\n",
       "      <td>Jefe(a) de Nucleo</td>\n",
       "      <td>5123</td>\n",
       "      <td>5</td>\n",
       "      <td>8</td>\n",
       "      <td>270000</td>\n",
       "      <td>270000</td>\n",
       "      <td>281750</td>\n",
       "      <td>12</td>\n",
       "      <td>M. Hum Compl.</td>\n",
       "      <td>Ocupados</td>\n",
       "    </tr>\n",
       "    <tr>\n",
       "      <th>3</th>\n",
       "      <td>1</td>\n",
       "      <td>Esposo(a) de mismo sexo</td>\n",
       "      <td>Hombre</td>\n",
       "      <td>28</td>\n",
       "      <td>Esposo(a) de mismo sexo</td>\n",
       "      <td>5123</td>\n",
       "      <td>5</td>\n",
       "      <td>8</td>\n",
       "      <td>300000</td>\n",
       "      <td>300000</td>\n",
       "      <td>311750</td>\n",
       "      <td>12</td>\n",
       "      <td>M. Hum Compl.</td>\n",
       "      <td>Ocupados</td>\n",
       "    </tr>\n",
       "    <tr>\n",
       "      <th>4</th>\n",
       "      <td>1</td>\n",
       "      <td>Jefe(a) de Hogar</td>\n",
       "      <td>Hombre</td>\n",
       "      <td>26</td>\n",
       "      <td>Jefe(a) de Nucleo</td>\n",
       "      <td>9141</td>\n",
       "      <td>9</td>\n",
       "      <td>8</td>\n",
       "      <td>320000</td>\n",
       "      <td>320000</td>\n",
       "      <td>341667</td>\n",
       "      <td>15</td>\n",
       "      <td>Tecnico Superior Compl.</td>\n",
       "      <td>Ocupados</td>\n",
       "    </tr>\n",
       "  </tbody>\n",
       "</table>\n",
       "</div>"
      ],
      "text/plain": [
       "  region                     pco1    sexo  edad                     pco2  \\\n",
       "0      1         Jefe(a) de Hogar   Mujer    56        Jefe(a) de Nucleo   \n",
       "1      1         Jefe(a) de Hogar   Mujer    21        Jefe(a) de Nucleo   \n",
       "2      1         Jefe(a) de Hogar  Hombre    24        Jefe(a) de Nucleo   \n",
       "3      1  Esposo(a) de mismo sexo  Hombre    28  Esposo(a) de mismo sexo   \n",
       "4      1         Jefe(a) de Hogar  Hombre    26        Jefe(a) de Nucleo   \n",
       "\n",
       "  oficio4 oficio1 o10 yoprcor yoprcorh ytrabajocor esc  \\\n",
       "0    9112       9   8  180000   180000      250000  12   \n",
       "1    9131       9  59  200000   200000      200000   7   \n",
       "2    5123       5   8  270000   270000      281750  12   \n",
       "3    5123       5   8  300000   300000      311750  12   \n",
       "4    9141       9   8  320000   320000      341667  15   \n",
       "\n",
       "                      educ     activ  \n",
       "0            M. Hum Compl.  Ocupados  \n",
       "1            Basica Incom.  Ocupados  \n",
       "2            M. Hum Compl.  Ocupados  \n",
       "3            M. Hum Compl.  Ocupados  \n",
       "4  Tecnico Superior Compl.  Ocupados  "
      ]
     },
     "execution_count": 7,
     "metadata": {},
     "output_type": "execute_result"
    }
   ],
   "source": [
    "df.head()"
   ]
  },
  {
   "cell_type": "markdown",
   "id": "3251b813",
   "metadata": {},
   "source": [
    "### 2. 2 Fill empty cells and drop NaN."
   ]
  },
  {
   "cell_type": "code",
   "execution_count": 8,
   "id": "ec44fee8",
   "metadata": {},
   "outputs": [],
   "source": [
    "# I need to change these columns to INT, but these have empty cells.\n",
    "# Therefore, I filled the empty cells with NaN.\n",
    "df['esc'].replace(r'\\s+', np.nan, regex=True, inplace = True)\n",
    "df['ytrabajocor'].replace(r'\\s+', np.nan, regex=True, inplace = True)\n",
    "df['yoprcor'].replace(r'\\s+', np.nan, regex=True, inplace = True)\n",
    "df['yoprcorh'].replace(r'\\s+', np.nan, regex=True, inplace = True)\n",
    "df['o10'].replace(r'\\s+', np.nan, regex=True, inplace = True)"
   ]
  },
  {
   "cell_type": "code",
   "execution_count": 9,
   "id": "947895c6",
   "metadata": {
    "scrolled": false
   },
   "outputs": [
    {
     "name": "stdout",
     "output_type": "stream",
     "text": [
      "region - 0.0%\n",
      "pco1 - 0.0%\n",
      "sexo - 0.0%\n",
      "edad - 0.0%\n",
      "pco2 - 0.0%\n",
      "oficio4 - 0.0%\n",
      "oficio1 - 0.0%\n",
      "o10 - 0.5735703824172168%\n",
      "yoprcor - 0.585476739404636%\n",
      "yoprcorh - 0.585476739404636%\n",
      "ytrabajocor - 0.5507510199178521%\n",
      "esc - 0.1958103668932124%\n",
      "educ - 0.005230111024353282%\n",
      "activ - 0.0%\n"
     ]
    }
   ],
   "source": [
    "# check Nan\n",
    "for col in df.columns:\n",
    "    pct_missing = np.mean(df[col].isnull())\n",
    "    print('{} - {}%'.format(col, pct_missing))"
   ]
  },
  {
   "cell_type": "code",
   "execution_count": 10,
   "id": "cdc44827",
   "metadata": {
    "scrolled": false
   },
   "outputs": [],
   "source": [
    "# I convert the column in FlOATF.\n",
    "df['esc'] = df['esc'].astype('float')\n",
    "df['yoprcor'] = df['yoprcor'].astype('float')\n",
    "df['yoprcorh'] = df['yoprcorh'].astype('float')\n",
    "df['ytrabajocor'] = df['ytrabajocor'].astype('float')\n",
    "df['o10'] = df['o10'].astype('float')"
   ]
  },
  {
   "cell_type": "code",
   "execution_count": 11,
   "id": "0f07227a",
   "metadata": {},
   "outputs": [
    {
     "data": {
      "text/plain": [
       "region          object\n",
       "pco1            object\n",
       "sexo            object\n",
       "edad             int64\n",
       "pco2            object\n",
       "oficio4         object\n",
       "oficio1         object\n",
       "o10            float64\n",
       "yoprcor        float64\n",
       "yoprcorh       float64\n",
       "ytrabajocor    float64\n",
       "esc            float64\n",
       "educ            object\n",
       "activ           object\n",
       "dtype: object"
      ]
     },
     "execution_count": 11,
     "metadata": {},
     "output_type": "execute_result"
    }
   ],
   "source": [
    "df.dtypes"
   ]
  },
  {
   "cell_type": "code",
   "execution_count": 12,
   "id": "ab854846",
   "metadata": {},
   "outputs": [
    {
     "name": "stdout",
     "output_type": "stream",
     "text": [
      "region - 0.0%\n",
      "pco1 - 0.0%\n",
      "sexo - 0.0%\n",
      "edad - 0.0%\n",
      "pco2 - 0.0%\n",
      "oficio4 - 0.0%\n",
      "oficio1 - 0.0%\n",
      "o10 - 0.5735703824172168%\n",
      "yoprcor - 0.585476739404636%\n",
      "yoprcorh - 0.585476739404636%\n",
      "ytrabajocor - 0.5507510199178521%\n",
      "esc - 0.1958103668932124%\n",
      "educ - 0.005230111024353282%\n",
      "activ - 0.0%\n"
     ]
    }
   ],
   "source": [
    "for col in df.columns:\n",
    "    pct_missing = np.mean(df[col].isnull())\n",
    "    print('{} - {}%'.format(col, pct_missing))"
   ]
  },
  {
   "cell_type": "markdown",
   "id": "b14b7f0c",
   "metadata": {},
   "source": [
    "## 3. Operacionalización"
   ]
  },
  {
   "cell_type": "code",
   "execution_count": 13,
   "id": "ab32f06e",
   "metadata": {
    "scrolled": true
   },
   "outputs": [
    {
     "data": {
      "text/html": [
       "<div>\n",
       "<style scoped>\n",
       "    .dataframe tbody tr th:only-of-type {\n",
       "        vertical-align: middle;\n",
       "    }\n",
       "\n",
       "    .dataframe tbody tr th {\n",
       "        vertical-align: top;\n",
       "    }\n",
       "\n",
       "    .dataframe thead th {\n",
       "        text-align: right;\n",
       "    }\n",
       "</style>\n",
       "<table border=\"1\" class=\"dataframe\">\n",
       "  <thead>\n",
       "    <tr style=\"text-align: right;\">\n",
       "      <th></th>\n",
       "      <th>edad</th>\n",
       "      <th>o10</th>\n",
       "      <th>yoprcor</th>\n",
       "      <th>yoprcorh</th>\n",
       "      <th>ytrabajocor</th>\n",
       "      <th>esc</th>\n",
       "    </tr>\n",
       "  </thead>\n",
       "  <tbody>\n",
       "    <tr>\n",
       "      <th>count</th>\n",
       "      <td>216439.00</td>\n",
       "      <td>92296.00</td>\n",
       "      <td>89719.00</td>\n",
       "      <td>89719.00</td>\n",
       "      <td>97235.00</td>\n",
       "      <td>174058.00</td>\n",
       "    </tr>\n",
       "    <tr>\n",
       "      <th>mean</th>\n",
       "      <td>37.78</td>\n",
       "      <td>42.90</td>\n",
       "      <td>491951.78</td>\n",
       "      <td>491951.78</td>\n",
       "      <td>514796.08</td>\n",
       "      <td>10.83</td>\n",
       "    </tr>\n",
       "    <tr>\n",
       "      <th>std</th>\n",
       "      <td>22.95</td>\n",
       "      <td>14.82</td>\n",
       "      <td>658468.50</td>\n",
       "      <td>658468.50</td>\n",
       "      <td>800524.17</td>\n",
       "      <td>4.29</td>\n",
       "    </tr>\n",
       "    <tr>\n",
       "      <th>min</th>\n",
       "      <td>0.00</td>\n",
       "      <td>1.00</td>\n",
       "      <td>2000.00</td>\n",
       "      <td>2000.00</td>\n",
       "      <td>42.00</td>\n",
       "      <td>0.00</td>\n",
       "    </tr>\n",
       "    <tr>\n",
       "      <th>25%</th>\n",
       "      <td>19.00</td>\n",
       "      <td>40.00</td>\n",
       "      <td>250000.00</td>\n",
       "      <td>250000.00</td>\n",
       "      <td>250000.00</td>\n",
       "      <td>8.00</td>\n",
       "    </tr>\n",
       "    <tr>\n",
       "      <th>50%</th>\n",
       "      <td>36.00</td>\n",
       "      <td>45.00</td>\n",
       "      <td>320000.00</td>\n",
       "      <td>320000.00</td>\n",
       "      <td>333333.00</td>\n",
       "      <td>12.00</td>\n",
       "    </tr>\n",
       "    <tr>\n",
       "      <th>75%</th>\n",
       "      <td>56.00</td>\n",
       "      <td>45.00</td>\n",
       "      <td>500000.00</td>\n",
       "      <td>500000.00</td>\n",
       "      <td>554167.00</td>\n",
       "      <td>14.00</td>\n",
       "    </tr>\n",
       "    <tr>\n",
       "      <th>max</th>\n",
       "      <td>117.00</td>\n",
       "      <td>220.00</td>\n",
       "      <td>40000000.00</td>\n",
       "      <td>40000000.00</td>\n",
       "      <td>80000000.00</td>\n",
       "      <td>22.00</td>\n",
       "    </tr>\n",
       "  </tbody>\n",
       "</table>\n",
       "</div>"
      ],
      "text/plain": [
       "            edad       o10      yoprcor     yoprcorh  ytrabajocor        esc\n",
       "count  216439.00  92296.00     89719.00     89719.00     97235.00  174058.00\n",
       "mean       37.78     42.90    491951.78    491951.78    514796.08      10.83\n",
       "std        22.95     14.82    658468.50    658468.50    800524.17       4.29\n",
       "min         0.00      1.00      2000.00      2000.00        42.00       0.00\n",
       "25%        19.00     40.00    250000.00    250000.00    250000.00       8.00\n",
       "50%        36.00     45.00    320000.00    320000.00    333333.00      12.00\n",
       "75%        56.00     45.00    500000.00    500000.00    554167.00      14.00\n",
       "max       117.00    220.00  40000000.00  40000000.00  80000000.00      22.00"
      ]
     },
     "execution_count": 13,
     "metadata": {},
     "output_type": "execute_result"
    }
   ],
   "source": [
    "round(df.describe(), 2)"
   ]
  },
  {
   "cell_type": "code",
   "execution_count": 16,
   "id": "a49ec57f",
   "metadata": {},
   "outputs": [
    {
     "data": {
      "text/html": [
       "<div>\n",
       "<style scoped>\n",
       "    .dataframe tbody tr th:only-of-type {\n",
       "        vertical-align: middle;\n",
       "    }\n",
       "\n",
       "    .dataframe tbody tr th {\n",
       "        vertical-align: top;\n",
       "    }\n",
       "\n",
       "    .dataframe thead th {\n",
       "        text-align: right;\n",
       "    }\n",
       "</style>\n",
       "<table border=\"1\" class=\"dataframe\">\n",
       "  <thead>\n",
       "    <tr style=\"text-align: right;\">\n",
       "      <th></th>\n",
       "      <th>yoprcor</th>\n",
       "    </tr>\n",
       "    <tr>\n",
       "      <th>sexo</th>\n",
       "      <th></th>\n",
       "    </tr>\n",
       "  </thead>\n",
       "  <tbody>\n",
       "    <tr>\n",
       "      <th>Hombre</th>\n",
       "      <td>542960.69</td>\n",
       "    </tr>\n",
       "    <tr>\n",
       "      <th>Mujer</th>\n",
       "      <td>421704.04</td>\n",
       "    </tr>\n",
       "  </tbody>\n",
       "</table>\n",
       "</div>"
      ],
      "text/plain": [
       "          yoprcor\n",
       "sexo             \n",
       "Hombre  542960.69\n",
       "Mujer   421704.04"
      ]
     },
     "execution_count": 16,
     "metadata": {},
     "output_type": "execute_result"
    }
   ],
   "source": [
    "table1 = round(df.pivot_table(index = 'sexo', aggfunc = 'mean', values = 'yoprcor'), 2)\n",
    "\n",
    "table1.head()"
   ]
  },
  {
   "cell_type": "code",
   "execution_count": 17,
   "id": "421fb105",
   "metadata": {},
   "outputs": [
    {
     "data": {
      "application/vnd.plotly.v1+json": {
       "config": {
        "linkText": "Export to plot.ly",
        "plotlyServerURL": "https://plot.ly",
        "showLink": true
       },
       "data": [
        {
         "marker": {
          "color": "rgba(226, 74, 51, 0.6)",
          "line": {
           "color": "rgba(226, 74, 51, 1.0)",
           "width": 1
          }
         },
         "name": "yoprcor",
         "orientation": "v",
         "text": "",
         "type": "bar",
         "x": [
          "Hombre",
          "Mujer"
         ],
         "y": [
          542960.69,
          421704.04
         ]
        }
       ],
       "layout": {
        "legend": {
         "bgcolor": "#FFFFFF",
         "font": {
          "color": "#666666"
         }
        },
        "paper_bgcolor": "#FFFFFF",
        "plot_bgcolor": "#E5E5E5",
        "template": {
         "data": {
          "bar": [
           {
            "error_x": {
             "color": "#2a3f5f"
            },
            "error_y": {
             "color": "#2a3f5f"
            },
            "marker": {
             "line": {
              "color": "#E5ECF6",
              "width": 0.5
             },
             "pattern": {
              "fillmode": "overlay",
              "size": 10,
              "solidity": 0.2
             }
            },
            "type": "bar"
           }
          ],
          "barpolar": [
           {
            "marker": {
             "line": {
              "color": "#E5ECF6",
              "width": 0.5
             },
             "pattern": {
              "fillmode": "overlay",
              "size": 10,
              "solidity": 0.2
             }
            },
            "type": "barpolar"
           }
          ],
          "carpet": [
           {
            "aaxis": {
             "endlinecolor": "#2a3f5f",
             "gridcolor": "white",
             "linecolor": "white",
             "minorgridcolor": "white",
             "startlinecolor": "#2a3f5f"
            },
            "baxis": {
             "endlinecolor": "#2a3f5f",
             "gridcolor": "white",
             "linecolor": "white",
             "minorgridcolor": "white",
             "startlinecolor": "#2a3f5f"
            },
            "type": "carpet"
           }
          ],
          "choropleth": [
           {
            "colorbar": {
             "outlinewidth": 0,
             "ticks": ""
            },
            "type": "choropleth"
           }
          ],
          "contour": [
           {
            "colorbar": {
             "outlinewidth": 0,
             "ticks": ""
            },
            "colorscale": [
             [
              0,
              "#0d0887"
             ],
             [
              0.1111111111111111,
              "#46039f"
             ],
             [
              0.2222222222222222,
              "#7201a8"
             ],
             [
              0.3333333333333333,
              "#9c179e"
             ],
             [
              0.4444444444444444,
              "#bd3786"
             ],
             [
              0.5555555555555556,
              "#d8576b"
             ],
             [
              0.6666666666666666,
              "#ed7953"
             ],
             [
              0.7777777777777778,
              "#fb9f3a"
             ],
             [
              0.8888888888888888,
              "#fdca26"
             ],
             [
              1,
              "#f0f921"
             ]
            ],
            "type": "contour"
           }
          ],
          "contourcarpet": [
           {
            "colorbar": {
             "outlinewidth": 0,
             "ticks": ""
            },
            "type": "contourcarpet"
           }
          ],
          "heatmap": [
           {
            "colorbar": {
             "outlinewidth": 0,
             "ticks": ""
            },
            "colorscale": [
             [
              0,
              "#0d0887"
             ],
             [
              0.1111111111111111,
              "#46039f"
             ],
             [
              0.2222222222222222,
              "#7201a8"
             ],
             [
              0.3333333333333333,
              "#9c179e"
             ],
             [
              0.4444444444444444,
              "#bd3786"
             ],
             [
              0.5555555555555556,
              "#d8576b"
             ],
             [
              0.6666666666666666,
              "#ed7953"
             ],
             [
              0.7777777777777778,
              "#fb9f3a"
             ],
             [
              0.8888888888888888,
              "#fdca26"
             ],
             [
              1,
              "#f0f921"
             ]
            ],
            "type": "heatmap"
           }
          ],
          "heatmapgl": [
           {
            "colorbar": {
             "outlinewidth": 0,
             "ticks": ""
            },
            "colorscale": [
             [
              0,
              "#0d0887"
             ],
             [
              0.1111111111111111,
              "#46039f"
             ],
             [
              0.2222222222222222,
              "#7201a8"
             ],
             [
              0.3333333333333333,
              "#9c179e"
             ],
             [
              0.4444444444444444,
              "#bd3786"
             ],
             [
              0.5555555555555556,
              "#d8576b"
             ],
             [
              0.6666666666666666,
              "#ed7953"
             ],
             [
              0.7777777777777778,
              "#fb9f3a"
             ],
             [
              0.8888888888888888,
              "#fdca26"
             ],
             [
              1,
              "#f0f921"
             ]
            ],
            "type": "heatmapgl"
           }
          ],
          "histogram": [
           {
            "marker": {
             "pattern": {
              "fillmode": "overlay",
              "size": 10,
              "solidity": 0.2
             }
            },
            "type": "histogram"
           }
          ],
          "histogram2d": [
           {
            "colorbar": {
             "outlinewidth": 0,
             "ticks": ""
            },
            "colorscale": [
             [
              0,
              "#0d0887"
             ],
             [
              0.1111111111111111,
              "#46039f"
             ],
             [
              0.2222222222222222,
              "#7201a8"
             ],
             [
              0.3333333333333333,
              "#9c179e"
             ],
             [
              0.4444444444444444,
              "#bd3786"
             ],
             [
              0.5555555555555556,
              "#d8576b"
             ],
             [
              0.6666666666666666,
              "#ed7953"
             ],
             [
              0.7777777777777778,
              "#fb9f3a"
             ],
             [
              0.8888888888888888,
              "#fdca26"
             ],
             [
              1,
              "#f0f921"
             ]
            ],
            "type": "histogram2d"
           }
          ],
          "histogram2dcontour": [
           {
            "colorbar": {
             "outlinewidth": 0,
             "ticks": ""
            },
            "colorscale": [
             [
              0,
              "#0d0887"
             ],
             [
              0.1111111111111111,
              "#46039f"
             ],
             [
              0.2222222222222222,
              "#7201a8"
             ],
             [
              0.3333333333333333,
              "#9c179e"
             ],
             [
              0.4444444444444444,
              "#bd3786"
             ],
             [
              0.5555555555555556,
              "#d8576b"
             ],
             [
              0.6666666666666666,
              "#ed7953"
             ],
             [
              0.7777777777777778,
              "#fb9f3a"
             ],
             [
              0.8888888888888888,
              "#fdca26"
             ],
             [
              1,
              "#f0f921"
             ]
            ],
            "type": "histogram2dcontour"
           }
          ],
          "mesh3d": [
           {
            "colorbar": {
             "outlinewidth": 0,
             "ticks": ""
            },
            "type": "mesh3d"
           }
          ],
          "parcoords": [
           {
            "line": {
             "colorbar": {
              "outlinewidth": 0,
              "ticks": ""
             }
            },
            "type": "parcoords"
           }
          ],
          "pie": [
           {
            "automargin": true,
            "type": "pie"
           }
          ],
          "scatter": [
           {
            "marker": {
             "colorbar": {
              "outlinewidth": 0,
              "ticks": ""
             }
            },
            "type": "scatter"
           }
          ],
          "scatter3d": [
           {
            "line": {
             "colorbar": {
              "outlinewidth": 0,
              "ticks": ""
             }
            },
            "marker": {
             "colorbar": {
              "outlinewidth": 0,
              "ticks": ""
             }
            },
            "type": "scatter3d"
           }
          ],
          "scattercarpet": [
           {
            "marker": {
             "colorbar": {
              "outlinewidth": 0,
              "ticks": ""
             }
            },
            "type": "scattercarpet"
           }
          ],
          "scattergeo": [
           {
            "marker": {
             "colorbar": {
              "outlinewidth": 0,
              "ticks": ""
             }
            },
            "type": "scattergeo"
           }
          ],
          "scattergl": [
           {
            "marker": {
             "colorbar": {
              "outlinewidth": 0,
              "ticks": ""
             }
            },
            "type": "scattergl"
           }
          ],
          "scattermapbox": [
           {
            "marker": {
             "colorbar": {
              "outlinewidth": 0,
              "ticks": ""
             }
            },
            "type": "scattermapbox"
           }
          ],
          "scatterpolar": [
           {
            "marker": {
             "colorbar": {
              "outlinewidth": 0,
              "ticks": ""
             }
            },
            "type": "scatterpolar"
           }
          ],
          "scatterpolargl": [
           {
            "marker": {
             "colorbar": {
              "outlinewidth": 0,
              "ticks": ""
             }
            },
            "type": "scatterpolargl"
           }
          ],
          "scatterternary": [
           {
            "marker": {
             "colorbar": {
              "outlinewidth": 0,
              "ticks": ""
             }
            },
            "type": "scatterternary"
           }
          ],
          "surface": [
           {
            "colorbar": {
             "outlinewidth": 0,
             "ticks": ""
            },
            "colorscale": [
             [
              0,
              "#0d0887"
             ],
             [
              0.1111111111111111,
              "#46039f"
             ],
             [
              0.2222222222222222,
              "#7201a8"
             ],
             [
              0.3333333333333333,
              "#9c179e"
             ],
             [
              0.4444444444444444,
              "#bd3786"
             ],
             [
              0.5555555555555556,
              "#d8576b"
             ],
             [
              0.6666666666666666,
              "#ed7953"
             ],
             [
              0.7777777777777778,
              "#fb9f3a"
             ],
             [
              0.8888888888888888,
              "#fdca26"
             ],
             [
              1,
              "#f0f921"
             ]
            ],
            "type": "surface"
           }
          ],
          "table": [
           {
            "cells": {
             "fill": {
              "color": "#EBF0F8"
             },
             "line": {
              "color": "white"
             }
            },
            "header": {
             "fill": {
              "color": "#C8D4E3"
             },
             "line": {
              "color": "white"
             }
            },
            "type": "table"
           }
          ]
         },
         "layout": {
          "annotationdefaults": {
           "arrowcolor": "#2a3f5f",
           "arrowhead": 0,
           "arrowwidth": 1
          },
          "autotypenumbers": "strict",
          "coloraxis": {
           "colorbar": {
            "outlinewidth": 0,
            "ticks": ""
           }
          },
          "colorscale": {
           "diverging": [
            [
             0,
             "#8e0152"
            ],
            [
             0.1,
             "#c51b7d"
            ],
            [
             0.2,
             "#de77ae"
            ],
            [
             0.3,
             "#f1b6da"
            ],
            [
             0.4,
             "#fde0ef"
            ],
            [
             0.5,
             "#f7f7f7"
            ],
            [
             0.6,
             "#e6f5d0"
            ],
            [
             0.7,
             "#b8e186"
            ],
            [
             0.8,
             "#7fbc41"
            ],
            [
             0.9,
             "#4d9221"
            ],
            [
             1,
             "#276419"
            ]
           ],
           "sequential": [
            [
             0,
             "#0d0887"
            ],
            [
             0.1111111111111111,
             "#46039f"
            ],
            [
             0.2222222222222222,
             "#7201a8"
            ],
            [
             0.3333333333333333,
             "#9c179e"
            ],
            [
             0.4444444444444444,
             "#bd3786"
            ],
            [
             0.5555555555555556,
             "#d8576b"
            ],
            [
             0.6666666666666666,
             "#ed7953"
            ],
            [
             0.7777777777777778,
             "#fb9f3a"
            ],
            [
             0.8888888888888888,
             "#fdca26"
            ],
            [
             1,
             "#f0f921"
            ]
           ],
           "sequentialminus": [
            [
             0,
             "#0d0887"
            ],
            [
             0.1111111111111111,
             "#46039f"
            ],
            [
             0.2222222222222222,
             "#7201a8"
            ],
            [
             0.3333333333333333,
             "#9c179e"
            ],
            [
             0.4444444444444444,
             "#bd3786"
            ],
            [
             0.5555555555555556,
             "#d8576b"
            ],
            [
             0.6666666666666666,
             "#ed7953"
            ],
            [
             0.7777777777777778,
             "#fb9f3a"
            ],
            [
             0.8888888888888888,
             "#fdca26"
            ],
            [
             1,
             "#f0f921"
            ]
           ]
          },
          "colorway": [
           "#636efa",
           "#EF553B",
           "#00cc96",
           "#ab63fa",
           "#FFA15A",
           "#19d3f3",
           "#FF6692",
           "#B6E880",
           "#FF97FF",
           "#FECB52"
          ],
          "font": {
           "color": "#2a3f5f"
          },
          "geo": {
           "bgcolor": "white",
           "lakecolor": "white",
           "landcolor": "#E5ECF6",
           "showlakes": true,
           "showland": true,
           "subunitcolor": "white"
          },
          "hoverlabel": {
           "align": "left"
          },
          "hovermode": "closest",
          "mapbox": {
           "style": "light"
          },
          "paper_bgcolor": "white",
          "plot_bgcolor": "#E5ECF6",
          "polar": {
           "angularaxis": {
            "gridcolor": "white",
            "linecolor": "white",
            "ticks": ""
           },
           "bgcolor": "#E5ECF6",
           "radialaxis": {
            "gridcolor": "white",
            "linecolor": "white",
            "ticks": ""
           }
          },
          "scene": {
           "xaxis": {
            "backgroundcolor": "#E5ECF6",
            "gridcolor": "white",
            "gridwidth": 2,
            "linecolor": "white",
            "showbackground": true,
            "ticks": "",
            "zerolinecolor": "white"
           },
           "yaxis": {
            "backgroundcolor": "#E5ECF6",
            "gridcolor": "white",
            "gridwidth": 2,
            "linecolor": "white",
            "showbackground": true,
            "ticks": "",
            "zerolinecolor": "white"
           },
           "zaxis": {
            "backgroundcolor": "#E5ECF6",
            "gridcolor": "white",
            "gridwidth": 2,
            "linecolor": "white",
            "showbackground": true,
            "ticks": "",
            "zerolinecolor": "white"
           }
          },
          "shapedefaults": {
           "line": {
            "color": "#2a3f5f"
           }
          },
          "ternary": {
           "aaxis": {
            "gridcolor": "white",
            "linecolor": "white",
            "ticks": ""
           },
           "baxis": {
            "gridcolor": "white",
            "linecolor": "white",
            "ticks": ""
           },
           "bgcolor": "#E5ECF6",
           "caxis": {
            "gridcolor": "white",
            "linecolor": "white",
            "ticks": ""
           }
          },
          "title": {
           "x": 0.05
          },
          "xaxis": {
           "automargin": true,
           "gridcolor": "white",
           "linecolor": "white",
           "ticks": "",
           "title": {
            "standoff": 15
           },
           "zerolinecolor": "white",
           "zerolinewidth": 2
          },
          "yaxis": {
           "automargin": true,
           "gridcolor": "white",
           "linecolor": "white",
           "ticks": "",
           "title": {
            "standoff": 15
           },
           "zerolinecolor": "white",
           "zerolinewidth": 2
          }
         }
        },
        "title": {
         "font": {
          "color": "#151516"
         }
        },
        "xaxis": {
         "gridcolor": "#F6F6F6",
         "showgrid": true,
         "tickfont": {
          "color": "#666666"
         },
         "title": {
          "font": {
           "color": "#666666"
          },
          "text": ""
         },
         "zerolinecolor": "#F6F6F6"
        },
        "yaxis": {
         "gridcolor": "#F6F6F6",
         "showgrid": true,
         "tickfont": {
          "color": "#666666"
         },
         "title": {
          "font": {
           "color": "#666666"
          },
          "text": ""
         },
         "zerolinecolor": "#F6F6F6"
        }
       }
      },
      "text/html": [
       "<div>                            <div id=\"11848793-a1fe-4fbb-ae65-95aa38735a48\" class=\"plotly-graph-div\" style=\"height:525px; width:100%;\"></div>            <script type=\"text/javascript\">                require([\"plotly\"], function(Plotly) {                    window.PLOTLYENV=window.PLOTLYENV || {};\n",
       "                    window.PLOTLYENV.BASE_URL='https://plot.ly';                                    if (document.getElementById(\"11848793-a1fe-4fbb-ae65-95aa38735a48\")) {                    Plotly.newPlot(                        \"11848793-a1fe-4fbb-ae65-95aa38735a48\",                        [{\"marker\":{\"color\":\"rgba(226, 74, 51, 0.6)\",\"line\":{\"color\":\"rgba(226, 74, 51, 1.0)\",\"width\":1}},\"name\":\"yoprcor\",\"orientation\":\"v\",\"text\":\"\",\"x\":[\"Hombre\",\"Mujer\"],\"y\":[542960.69,421704.04],\"type\":\"bar\"}],                        {\"legend\":{\"bgcolor\":\"#FFFFFF\",\"font\":{\"color\":\"#666666\"}},\"paper_bgcolor\":\"#FFFFFF\",\"plot_bgcolor\":\"#E5E5E5\",\"template\":{\"data\":{\"barpolar\":[{\"marker\":{\"line\":{\"color\":\"#E5ECF6\",\"width\":0.5},\"pattern\":{\"fillmode\":\"overlay\",\"size\":10,\"solidity\":0.2}},\"type\":\"barpolar\"}],\"bar\":[{\"error_x\":{\"color\":\"#2a3f5f\"},\"error_y\":{\"color\":\"#2a3f5f\"},\"marker\":{\"line\":{\"color\":\"#E5ECF6\",\"width\":0.5},\"pattern\":{\"fillmode\":\"overlay\",\"size\":10,\"solidity\":0.2}},\"type\":\"bar\"}],\"carpet\":[{\"aaxis\":{\"endlinecolor\":\"#2a3f5f\",\"gridcolor\":\"white\",\"linecolor\":\"white\",\"minorgridcolor\":\"white\",\"startlinecolor\":\"#2a3f5f\"},\"baxis\":{\"endlinecolor\":\"#2a3f5f\",\"gridcolor\":\"white\",\"linecolor\":\"white\",\"minorgridcolor\":\"white\",\"startlinecolor\":\"#2a3f5f\"},\"type\":\"carpet\"}],\"choropleth\":[{\"colorbar\":{\"outlinewidth\":0,\"ticks\":\"\"},\"type\":\"choropleth\"}],\"contourcarpet\":[{\"colorbar\":{\"outlinewidth\":0,\"ticks\":\"\"},\"type\":\"contourcarpet\"}],\"contour\":[{\"colorbar\":{\"outlinewidth\":0,\"ticks\":\"\"},\"colorscale\":[[0.0,\"#0d0887\"],[0.1111111111111111,\"#46039f\"],[0.2222222222222222,\"#7201a8\"],[0.3333333333333333,\"#9c179e\"],[0.4444444444444444,\"#bd3786\"],[0.5555555555555556,\"#d8576b\"],[0.6666666666666666,\"#ed7953\"],[0.7777777777777778,\"#fb9f3a\"],[0.8888888888888888,\"#fdca26\"],[1.0,\"#f0f921\"]],\"type\":\"contour\"}],\"heatmapgl\":[{\"colorbar\":{\"outlinewidth\":0,\"ticks\":\"\"},\"colorscale\":[[0.0,\"#0d0887\"],[0.1111111111111111,\"#46039f\"],[0.2222222222222222,\"#7201a8\"],[0.3333333333333333,\"#9c179e\"],[0.4444444444444444,\"#bd3786\"],[0.5555555555555556,\"#d8576b\"],[0.6666666666666666,\"#ed7953\"],[0.7777777777777778,\"#fb9f3a\"],[0.8888888888888888,\"#fdca26\"],[1.0,\"#f0f921\"]],\"type\":\"heatmapgl\"}],\"heatmap\":[{\"colorbar\":{\"outlinewidth\":0,\"ticks\":\"\"},\"colorscale\":[[0.0,\"#0d0887\"],[0.1111111111111111,\"#46039f\"],[0.2222222222222222,\"#7201a8\"],[0.3333333333333333,\"#9c179e\"],[0.4444444444444444,\"#bd3786\"],[0.5555555555555556,\"#d8576b\"],[0.6666666666666666,\"#ed7953\"],[0.7777777777777778,\"#fb9f3a\"],[0.8888888888888888,\"#fdca26\"],[1.0,\"#f0f921\"]],\"type\":\"heatmap\"}],\"histogram2dcontour\":[{\"colorbar\":{\"outlinewidth\":0,\"ticks\":\"\"},\"colorscale\":[[0.0,\"#0d0887\"],[0.1111111111111111,\"#46039f\"],[0.2222222222222222,\"#7201a8\"],[0.3333333333333333,\"#9c179e\"],[0.4444444444444444,\"#bd3786\"],[0.5555555555555556,\"#d8576b\"],[0.6666666666666666,\"#ed7953\"],[0.7777777777777778,\"#fb9f3a\"],[0.8888888888888888,\"#fdca26\"],[1.0,\"#f0f921\"]],\"type\":\"histogram2dcontour\"}],\"histogram2d\":[{\"colorbar\":{\"outlinewidth\":0,\"ticks\":\"\"},\"colorscale\":[[0.0,\"#0d0887\"],[0.1111111111111111,\"#46039f\"],[0.2222222222222222,\"#7201a8\"],[0.3333333333333333,\"#9c179e\"],[0.4444444444444444,\"#bd3786\"],[0.5555555555555556,\"#d8576b\"],[0.6666666666666666,\"#ed7953\"],[0.7777777777777778,\"#fb9f3a\"],[0.8888888888888888,\"#fdca26\"],[1.0,\"#f0f921\"]],\"type\":\"histogram2d\"}],\"histogram\":[{\"marker\":{\"pattern\":{\"fillmode\":\"overlay\",\"size\":10,\"solidity\":0.2}},\"type\":\"histogram\"}],\"mesh3d\":[{\"colorbar\":{\"outlinewidth\":0,\"ticks\":\"\"},\"type\":\"mesh3d\"}],\"parcoords\":[{\"line\":{\"colorbar\":{\"outlinewidth\":0,\"ticks\":\"\"}},\"type\":\"parcoords\"}],\"pie\":[{\"automargin\":true,\"type\":\"pie\"}],\"scatter3d\":[{\"line\":{\"colorbar\":{\"outlinewidth\":0,\"ticks\":\"\"}},\"marker\":{\"colorbar\":{\"outlinewidth\":0,\"ticks\":\"\"}},\"type\":\"scatter3d\"}],\"scattercarpet\":[{\"marker\":{\"colorbar\":{\"outlinewidth\":0,\"ticks\":\"\"}},\"type\":\"scattercarpet\"}],\"scattergeo\":[{\"marker\":{\"colorbar\":{\"outlinewidth\":0,\"ticks\":\"\"}},\"type\":\"scattergeo\"}],\"scattergl\":[{\"marker\":{\"colorbar\":{\"outlinewidth\":0,\"ticks\":\"\"}},\"type\":\"scattergl\"}],\"scattermapbox\":[{\"marker\":{\"colorbar\":{\"outlinewidth\":0,\"ticks\":\"\"}},\"type\":\"scattermapbox\"}],\"scatterpolargl\":[{\"marker\":{\"colorbar\":{\"outlinewidth\":0,\"ticks\":\"\"}},\"type\":\"scatterpolargl\"}],\"scatterpolar\":[{\"marker\":{\"colorbar\":{\"outlinewidth\":0,\"ticks\":\"\"}},\"type\":\"scatterpolar\"}],\"scatter\":[{\"marker\":{\"colorbar\":{\"outlinewidth\":0,\"ticks\":\"\"}},\"type\":\"scatter\"}],\"scatterternary\":[{\"marker\":{\"colorbar\":{\"outlinewidth\":0,\"ticks\":\"\"}},\"type\":\"scatterternary\"}],\"surface\":[{\"colorbar\":{\"outlinewidth\":0,\"ticks\":\"\"},\"colorscale\":[[0.0,\"#0d0887\"],[0.1111111111111111,\"#46039f\"],[0.2222222222222222,\"#7201a8\"],[0.3333333333333333,\"#9c179e\"],[0.4444444444444444,\"#bd3786\"],[0.5555555555555556,\"#d8576b\"],[0.6666666666666666,\"#ed7953\"],[0.7777777777777778,\"#fb9f3a\"],[0.8888888888888888,\"#fdca26\"],[1.0,\"#f0f921\"]],\"type\":\"surface\"}],\"table\":[{\"cells\":{\"fill\":{\"color\":\"#EBF0F8\"},\"line\":{\"color\":\"white\"}},\"header\":{\"fill\":{\"color\":\"#C8D4E3\"},\"line\":{\"color\":\"white\"}},\"type\":\"table\"}]},\"layout\":{\"annotationdefaults\":{\"arrowcolor\":\"#2a3f5f\",\"arrowhead\":0,\"arrowwidth\":1},\"autotypenumbers\":\"strict\",\"coloraxis\":{\"colorbar\":{\"outlinewidth\":0,\"ticks\":\"\"}},\"colorscale\":{\"diverging\":[[0,\"#8e0152\"],[0.1,\"#c51b7d\"],[0.2,\"#de77ae\"],[0.3,\"#f1b6da\"],[0.4,\"#fde0ef\"],[0.5,\"#f7f7f7\"],[0.6,\"#e6f5d0\"],[0.7,\"#b8e186\"],[0.8,\"#7fbc41\"],[0.9,\"#4d9221\"],[1,\"#276419\"]],\"sequential\":[[0.0,\"#0d0887\"],[0.1111111111111111,\"#46039f\"],[0.2222222222222222,\"#7201a8\"],[0.3333333333333333,\"#9c179e\"],[0.4444444444444444,\"#bd3786\"],[0.5555555555555556,\"#d8576b\"],[0.6666666666666666,\"#ed7953\"],[0.7777777777777778,\"#fb9f3a\"],[0.8888888888888888,\"#fdca26\"],[1.0,\"#f0f921\"]],\"sequentialminus\":[[0.0,\"#0d0887\"],[0.1111111111111111,\"#46039f\"],[0.2222222222222222,\"#7201a8\"],[0.3333333333333333,\"#9c179e\"],[0.4444444444444444,\"#bd3786\"],[0.5555555555555556,\"#d8576b\"],[0.6666666666666666,\"#ed7953\"],[0.7777777777777778,\"#fb9f3a\"],[0.8888888888888888,\"#fdca26\"],[1.0,\"#f0f921\"]]},\"colorway\":[\"#636efa\",\"#EF553B\",\"#00cc96\",\"#ab63fa\",\"#FFA15A\",\"#19d3f3\",\"#FF6692\",\"#B6E880\",\"#FF97FF\",\"#FECB52\"],\"font\":{\"color\":\"#2a3f5f\"},\"geo\":{\"bgcolor\":\"white\",\"lakecolor\":\"white\",\"landcolor\":\"#E5ECF6\",\"showlakes\":true,\"showland\":true,\"subunitcolor\":\"white\"},\"hoverlabel\":{\"align\":\"left\"},\"hovermode\":\"closest\",\"mapbox\":{\"style\":\"light\"},\"paper_bgcolor\":\"white\",\"plot_bgcolor\":\"#E5ECF6\",\"polar\":{\"angularaxis\":{\"gridcolor\":\"white\",\"linecolor\":\"white\",\"ticks\":\"\"},\"bgcolor\":\"#E5ECF6\",\"radialaxis\":{\"gridcolor\":\"white\",\"linecolor\":\"white\",\"ticks\":\"\"}},\"scene\":{\"xaxis\":{\"backgroundcolor\":\"#E5ECF6\",\"gridcolor\":\"white\",\"gridwidth\":2,\"linecolor\":\"white\",\"showbackground\":true,\"ticks\":\"\",\"zerolinecolor\":\"white\"},\"yaxis\":{\"backgroundcolor\":\"#E5ECF6\",\"gridcolor\":\"white\",\"gridwidth\":2,\"linecolor\":\"white\",\"showbackground\":true,\"ticks\":\"\",\"zerolinecolor\":\"white\"},\"zaxis\":{\"backgroundcolor\":\"#E5ECF6\",\"gridcolor\":\"white\",\"gridwidth\":2,\"linecolor\":\"white\",\"showbackground\":true,\"ticks\":\"\",\"zerolinecolor\":\"white\"}},\"shapedefaults\":{\"line\":{\"color\":\"#2a3f5f\"}},\"ternary\":{\"aaxis\":{\"gridcolor\":\"white\",\"linecolor\":\"white\",\"ticks\":\"\"},\"baxis\":{\"gridcolor\":\"white\",\"linecolor\":\"white\",\"ticks\":\"\"},\"bgcolor\":\"#E5ECF6\",\"caxis\":{\"gridcolor\":\"white\",\"linecolor\":\"white\",\"ticks\":\"\"}},\"title\":{\"x\":0.05},\"xaxis\":{\"automargin\":true,\"gridcolor\":\"white\",\"linecolor\":\"white\",\"ticks\":\"\",\"title\":{\"standoff\":15},\"zerolinecolor\":\"white\",\"zerolinewidth\":2},\"yaxis\":{\"automargin\":true,\"gridcolor\":\"white\",\"linecolor\":\"white\",\"ticks\":\"\",\"title\":{\"standoff\":15},\"zerolinecolor\":\"white\",\"zerolinewidth\":2}}},\"title\":{\"font\":{\"color\":\"#151516\"}},\"xaxis\":{\"gridcolor\":\"#F6F6F6\",\"showgrid\":true,\"tickfont\":{\"color\":\"#666666\"},\"title\":{\"font\":{\"color\":\"#666666\"},\"text\":\"\"},\"zerolinecolor\":\"#F6F6F6\"},\"yaxis\":{\"gridcolor\":\"#F6F6F6\",\"showgrid\":true,\"tickfont\":{\"color\":\"#666666\"},\"title\":{\"font\":{\"color\":\"#666666\"},\"text\":\"\"},\"zerolinecolor\":\"#F6F6F6\"}},                        {\"showLink\": true, \"linkText\": \"Export to plot.ly\", \"plotlyServerURL\": \"https://plot.ly\", \"responsive\": true}                    ).then(function(){\n",
       "                            \n",
       "var gd = document.getElementById('11848793-a1fe-4fbb-ae65-95aa38735a48');\n",
       "var x = new MutationObserver(function (mutations, observer) {{\n",
       "        var display = window.getComputedStyle(gd).display;\n",
       "        if (!display || display === 'none') {{\n",
       "            console.log([gd, 'removed!']);\n",
       "            Plotly.purge(gd);\n",
       "            observer.disconnect();\n",
       "        }}\n",
       "}});\n",
       "\n",
       "// Listen for the removal of the full notebook cells\n",
       "var notebookContainer = gd.closest('#notebook-container');\n",
       "if (notebookContainer) {{\n",
       "    x.observe(notebookContainer, {childList: true});\n",
       "}}\n",
       "\n",
       "// Listen for the clearing of the current output cell\n",
       "var outputEl = gd.closest('.output');\n",
       "if (outputEl) {{\n",
       "    x.observe(outputEl, {childList: true});\n",
       "}}\n",
       "\n",
       "                        })                };                });            </script>        </div>"
      ]
     },
     "metadata": {},
     "output_type": "display_data"
    }
   ],
   "source": [
    "table1.iplot(kind = 'bar')"
   ]
  }
 ],
 "metadata": {
  "kernelspec": {
   "display_name": "Python 3 (ipykernel)",
   "language": "python",
   "name": "python3"
  },
  "language_info": {
   "codemirror_mode": {
    "name": "ipython",
    "version": 3
   },
   "file_extension": ".py",
   "mimetype": "text/x-python",
   "name": "python",
   "nbconvert_exporter": "python",
   "pygments_lexer": "ipython3",
   "version": "3.9.12"
  }
 },
 "nbformat": 4,
 "nbformat_minor": 5
}
